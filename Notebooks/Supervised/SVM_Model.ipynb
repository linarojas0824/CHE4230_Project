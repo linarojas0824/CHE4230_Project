{
 "cells": [
  {
   "cell_type": "code",
   "execution_count": 1,
   "metadata": {},
   "outputs": [],
   "source": [
    "import pandas as pd\n",
    "import numpy as np\n",
    "import sys\n",
    "import os"
   ]
  },
  {
   "attachments": {},
   "cell_type": "markdown",
   "metadata": {},
   "source": [
    "LOAD DATA"
   ]
  },
  {
   "cell_type": "code",
   "execution_count": 2,
   "metadata": {},
   "outputs": [
    {
     "data": {
      "text/html": [
       "<div>\n",
       "<style scoped>\n",
       "    .dataframe tbody tr th:only-of-type {\n",
       "        vertical-align: middle;\n",
       "    }\n",
       "\n",
       "    .dataframe tbody tr th {\n",
       "        vertical-align: top;\n",
       "    }\n",
       "\n",
       "    .dataframe thead th {\n",
       "        text-align: right;\n",
       "    }\n",
       "</style>\n",
       "<table border=\"1\" class=\"dataframe\">\n",
       "  <thead>\n",
       "    <tr style=\"text-align: right;\">\n",
       "      <th></th>\n",
       "      <th>Unnamed: 0</th>\n",
       "      <th>XMEAS1</th>\n",
       "      <th>XMEAS2</th>\n",
       "      <th>XMEAS3</th>\n",
       "      <th>XMEAS4</th>\n",
       "      <th>XMEAS5</th>\n",
       "      <th>XMEAS6</th>\n",
       "      <th>XMEAS7</th>\n",
       "      <th>XMEAS8</th>\n",
       "      <th>XMEAS9</th>\n",
       "      <th>...</th>\n",
       "      <th>XMV3</th>\n",
       "      <th>XMV4</th>\n",
       "      <th>XMV5</th>\n",
       "      <th>XMV6</th>\n",
       "      <th>XMV7</th>\n",
       "      <th>XMV8</th>\n",
       "      <th>XMV9</th>\n",
       "      <th>XMV10</th>\n",
       "      <th>XMV11</th>\n",
       "      <th>XMV12</th>\n",
       "    </tr>\n",
       "  </thead>\n",
       "  <tbody>\n",
       "    <tr>\n",
       "      <th>0</th>\n",
       "      <td>1</td>\n",
       "      <td>0.271033</td>\n",
       "      <td>3649.739415</td>\n",
       "      <td>4451.320791</td>\n",
       "      <td>9.223142</td>\n",
       "      <td>32.392900</td>\n",
       "      <td>47.559754</td>\n",
       "      <td>2798.975799</td>\n",
       "      <td>64.995825</td>\n",
       "      <td>122.898796</td>\n",
       "      <td>...</td>\n",
       "      <td>26.662173</td>\n",
       "      <td>60.482854</td>\n",
       "      <td>0</td>\n",
       "      <td>24.229301</td>\n",
       "      <td>37.208198</td>\n",
       "      <td>46.430526</td>\n",
       "      <td>0</td>\n",
       "      <td>35.865322</td>\n",
       "      <td>12.930642</td>\n",
       "      <td>100</td>\n",
       "    </tr>\n",
       "    <tr>\n",
       "      <th>1</th>\n",
       "      <td>2</td>\n",
       "      <td>0.270826</td>\n",
       "      <td>3653.341885</td>\n",
       "      <td>4488.640140</td>\n",
       "      <td>9.211980</td>\n",
       "      <td>32.501953</td>\n",
       "      <td>47.374855</td>\n",
       "      <td>2800.296214</td>\n",
       "      <td>65.091251</td>\n",
       "      <td>122.877519</td>\n",
       "      <td>...</td>\n",
       "      <td>26.689544</td>\n",
       "      <td>60.524644</td>\n",
       "      <td>0</td>\n",
       "      <td>24.171763</td>\n",
       "      <td>37.227431</td>\n",
       "      <td>46.427192</td>\n",
       "      <td>0</td>\n",
       "      <td>35.719177</td>\n",
       "      <td>11.714423</td>\n",
       "      <td>100</td>\n",
       "    </tr>\n",
       "    <tr>\n",
       "      <th>2</th>\n",
       "      <td>3</td>\n",
       "      <td>0.270474</td>\n",
       "      <td>3688.113265</td>\n",
       "      <td>4432.832766</td>\n",
       "      <td>9.235690</td>\n",
       "      <td>32.402838</td>\n",
       "      <td>47.817088</td>\n",
       "      <td>2802.647777</td>\n",
       "      <td>64.812363</td>\n",
       "      <td>122.916165</td>\n",
       "      <td>...</td>\n",
       "      <td>26.705507</td>\n",
       "      <td>60.546193</td>\n",
       "      <td>0</td>\n",
       "      <td>25.179022</td>\n",
       "      <td>37.243766</td>\n",
       "      <td>46.442544</td>\n",
       "      <td>0</td>\n",
       "      <td>35.740715</td>\n",
       "      <td>10.734676</td>\n",
       "      <td>100</td>\n",
       "    </tr>\n",
       "    <tr>\n",
       "      <th>3</th>\n",
       "      <td>4</td>\n",
       "      <td>0.272127</td>\n",
       "      <td>3651.680041</td>\n",
       "      <td>4459.268940</td>\n",
       "      <td>9.192009</td>\n",
       "      <td>31.876790</td>\n",
       "      <td>47.869249</td>\n",
       "      <td>2803.693084</td>\n",
       "      <td>64.205417</td>\n",
       "      <td>122.892493</td>\n",
       "      <td>...</td>\n",
       "      <td>26.768653</td>\n",
       "      <td>60.568588</td>\n",
       "      <td>0</td>\n",
       "      <td>26.922729</td>\n",
       "      <td>37.211698</td>\n",
       "      <td>46.407497</td>\n",
       "      <td>0</td>\n",
       "      <td>35.736154</td>\n",
       "      <td>10.311783</td>\n",
       "      <td>100</td>\n",
       "    </tr>\n",
       "    <tr>\n",
       "      <th>4</th>\n",
       "      <td>5</td>\n",
       "      <td>0.270939</td>\n",
       "      <td>3636.329271</td>\n",
       "      <td>4460.409756</td>\n",
       "      <td>9.277992</td>\n",
       "      <td>32.424754</td>\n",
       "      <td>47.509322</td>\n",
       "      <td>2804.787223</td>\n",
       "      <td>64.598623</td>\n",
       "      <td>122.890514</td>\n",
       "      <td>...</td>\n",
       "      <td>26.396773</td>\n",
       "      <td>60.637598</td>\n",
       "      <td>0</td>\n",
       "      <td>29.039605</td>\n",
       "      <td>37.199517</td>\n",
       "      <td>46.424034</td>\n",
       "      <td>0</td>\n",
       "      <td>35.890716</td>\n",
       "      <td>11.181380</td>\n",
       "      <td>100</td>\n",
       "    </tr>\n",
       "  </tbody>\n",
       "</table>\n",
       "<p>5 rows × 54 columns</p>\n",
       "</div>"
      ],
      "text/plain": [
       "   Unnamed: 0    XMEAS1       XMEAS2       XMEAS3    XMEAS4     XMEAS5  \\\n",
       "0           1  0.271033  3649.739415  4451.320791  9.223142  32.392900   \n",
       "1           2  0.270826  3653.341885  4488.640140  9.211980  32.501953   \n",
       "2           3  0.270474  3688.113265  4432.832766  9.235690  32.402838   \n",
       "3           4  0.272127  3651.680041  4459.268940  9.192009  31.876790   \n",
       "4           5  0.270939  3636.329271  4460.409756  9.277992  32.424754   \n",
       "\n",
       "      XMEAS6       XMEAS7     XMEAS8      XMEAS9  ...       XMV3       XMV4  \\\n",
       "0  47.559754  2798.975799  64.995825  122.898796  ...  26.662173  60.482854   \n",
       "1  47.374855  2800.296214  65.091251  122.877519  ...  26.689544  60.524644   \n",
       "2  47.817088  2802.647777  64.812363  122.916165  ...  26.705507  60.546193   \n",
       "3  47.869249  2803.693084  64.205417  122.892493  ...  26.768653  60.568588   \n",
       "4  47.509322  2804.787223  64.598623  122.890514  ...  26.396773  60.637598   \n",
       "\n",
       "   XMV5       XMV6       XMV7       XMV8  XMV9      XMV10      XMV11  XMV12  \n",
       "0     0  24.229301  37.208198  46.430526     0  35.865322  12.930642    100  \n",
       "1     0  24.171763  37.227431  46.427192     0  35.719177  11.714423    100  \n",
       "2     0  25.179022  37.243766  46.442544     0  35.740715  10.734676    100  \n",
       "3     0  26.922729  37.211698  46.407497     0  35.736154  10.311783    100  \n",
       "4     0  29.039605  37.199517  46.424034     0  35.890716  11.181380    100  \n",
       "\n",
       "[5 rows x 54 columns]"
      ]
     },
     "execution_count": 2,
     "metadata": {},
     "output_type": "execute_result"
    }
   ],
   "source": [
    "#os.chdir('../meters')\n",
    "os.getcwd()\n",
    "data = pd.read_csv('C:/Users/luiss/Python Process Control/Github Folder/Project/Project/Data/RawData1.csv',encoding='latin1').dropna()\n",
    "data=pd.DataFrame(data)\n",
    "data.head()\n",
    "\n"
   ]
  },
  {
   "cell_type": "code",
   "execution_count": 3,
   "metadata": {},
   "outputs": [
    {
     "data": {
      "text/plain": [
       "0"
      ]
     },
     "execution_count": 3,
     "metadata": {},
     "output_type": "execute_result"
    }
   ],
   "source": [
    " #2. Check for missing values in the dataset. Ans? There is not.\n",
    "data.isnull().sum().sum()"
   ]
  },
  {
   "cell_type": "code",
   "execution_count": 4,
   "metadata": {},
   "outputs": [
    {
     "data": {
      "text/plain": [
       "Unnamed: 0    False\n",
       "XMEAS1         True\n",
       "XMEAS2        False\n",
       "XMEAS3        False\n",
       "XMEAS4        False\n",
       "XMEAS5        False\n",
       "XMEAS6        False\n",
       "XMEAS7        False\n",
       "XMEAS8        False\n",
       "XMEAS9        False\n",
       "XMEAS10       False\n",
       "XMEAS11       False\n",
       "XMEAS12       False\n",
       "XMEAS13       False\n",
       "XMEAS14       False\n",
       "XMEAS15       False\n",
       "XMEAS16       False\n",
       "XMEAS17       False\n",
       "XMEAS18       False\n",
       "XMEAS19        True\n",
       "XMEAS20       False\n",
       "XMEAS21       False\n",
       "XMEAS22       False\n",
       "XMEAS23       False\n",
       "XMEAS24       False\n",
       "XMEAS25       False\n",
       "XMEAS26       False\n",
       "XMEAS27       False\n",
       "XMEAS28       False\n",
       "XMEAS29       False\n",
       "XMEAS30       False\n",
       "XMEAS31       False\n",
       "XMEAS32       False\n",
       "XMEAS33       False\n",
       "XMEAS34       False\n",
       "XMEAS35       False\n",
       "XMEAS36       False\n",
       "XMEAS37       False\n",
       "XMEAS38       False\n",
       "XMEAS39       False\n",
       "XMEAS40       False\n",
       "XMEAS41       False\n",
       "XMV1          False\n",
       "XMV2          False\n",
       "XMV3           True\n",
       "XMV4          False\n",
       "XMV5           True\n",
       "XMV6          False\n",
       "XMV7          False\n",
       "XMV8          False\n",
       "XMV9           True\n",
       "XMV10         False\n",
       "XMV11         False\n",
       "XMV12         False\n",
       "dtype: bool"
      ]
     },
     "execution_count": 4,
     "metadata": {},
     "output_type": "execute_result"
    }
   ],
   "source": [
    " #3. Check for zeros values in the dataset. Yes They are. Questions? Two models ine with zeros and another with \n",
    "\n",
    "data.eq(0).any()"
   ]
  },
  {
   "cell_type": "code",
   "execution_count": 5,
   "metadata": {},
   "outputs": [],
   "source": [
    " #3. Check for zeros values in the dataset. \n",
    "#Note: We could fill with average the 0 values when there is 1 3 or 5. and avoid a negative skew"
   ]
  },
  {
   "cell_type": "code",
   "execution_count": 6,
   "metadata": {},
   "outputs": [
    {
     "name": "stdout",
     "output_type": "stream",
     "text": [
      "Length of framework is: 1995\n",
      " Length of training data is: 1596\n",
      " Length of test data is: 200\n",
      " Length of validation data is: 199\n",
      "\n"
     ]
    }
   ],
   "source": [
    " #4. Split the data\n",
    "\n",
    "import pandas as pd\n",
    "import numpy as np\n",
    "from sklearn.model_selection import train_test_split\n",
    "\n",
    "train_data, test_data= train_test_split(data,train_size=0.8, test_size=0.2, random_state=60)\n",
    "validation_data, test_data = train_test_split(test_data,train_size=0.50, test_size=0.50, random_state=60)\n",
    "\n",
    "print(f'Length of framework is: {len(data)}\\n',\n",
    "      f'Length of training data is: {len(train_data)}\\n',\n",
    "      f'Length of test data is: {len(test_data)}\\n',\n",
    "      f'Length of validation data is: {len(validation_data)}\\n')"
   ]
  },
  {
   "cell_type": "code",
   "execution_count": 7,
   "metadata": {},
   "outputs": [],
   "source": [
    "from sklearn.preprocessing import MinMaxScaler\n",
    "Norm =MinMaxScaler()\n",
    "train_data_normalized=pd.DataFrame(Norm.fit_transform(train_data))\n",
    "validation_data_normalized=pd.DataFrame(Norm.fit_transform(validation_data))\n",
    "testing_data_normalized=pd.DataFrame(Norm.fit_transform(test_data))\n"
   ]
  },
  {
   "cell_type": "code",
   "execution_count": 8,
   "metadata": {},
   "outputs": [
    {
     "name": "stderr",
     "output_type": "stream",
     "text": [
      "c:\\Users\\luiss\\anaconda3\\envs\\myenv3\\lib\\site-packages\\tqdm\\auto.py:21: TqdmWarning: IProgress not found. Please update jupyter and ipywidgets. See https://ipywidgets.readthedocs.io/en/stable/user_install.html\n",
      "  from .autonotebook import tqdm as notebook_tqdm\n"
     ]
    },
    {
     "data": {
      "text/plain": [
       "Text(0.5, 1.0, 'UMAP')"
      ]
     },
     "execution_count": 8,
     "metadata": {},
     "output_type": "execute_result"
    },
    {
     "data": {
      "image/png": "[encoded data removed]",
      "text/plain": [
       "<Figure size 640x480 with 1 Axes>"
      ]
     },
     "metadata": {},
     "output_type": "display_data"
    }
   ],
   "source": [
    "from umap import UMAP\n",
    "#import plotly.express as px\n",
    "import matplotlib.pyplot as plt\n",
    "\n",
    "UMAP_normal = UMAP (n_components= 2)\n",
    "\n",
    "train_UMPA = UMAP_normal.fit_transform(train_data_normalized)\n",
    "val_UMAP=UMAP_normal.fit_transform(validation_data_normalized)\n",
    "test_UMAP=UMAP_normal.fit_transform(testing_data_normalized)\n",
    "\n",
    "\n",
    "\n",
    "plt.scatter(train_UMPA[:,0], train_UMPA[:,1])\n",
    "plt.title(\"UMAP\")\n",
    "\n"
   ]
  },
  {
   "cell_type": "code",
   "execution_count": 9,
   "metadata": {},
   "outputs": [
    {
     "name": "stderr",
     "output_type": "stream",
     "text": [
      "c:\\Users\\luiss\\anaconda3\\envs\\myenv3\\lib\\site-packages\\sklearn\\cluster\\_kmeans.py:1382: UserWarning: KMeans is known to have a memory leak on Windows with MKL, when there are less chunks than available threads. You can avoid it by setting the environment variable OMP_NUM_THREADS=7.\n",
      "  warnings.warn(\n",
      "c:\\Users\\luiss\\anaconda3\\envs\\myenv3\\lib\\site-packages\\sklearn\\cluster\\_kmeans.py:1382: UserWarning: KMeans is known to have a memory leak on Windows with MKL, when there are less chunks than available threads. You can avoid it by setting the environment variable OMP_NUM_THREADS=1.\n",
      "  warnings.warn(\n",
      "c:\\Users\\luiss\\anaconda3\\envs\\myenv3\\lib\\site-packages\\sklearn\\cluster\\_kmeans.py:1382: UserWarning: KMeans is known to have a memory leak on Windows with MKL, when there are less chunks than available threads. You can avoid it by setting the environment variable OMP_NUM_THREADS=1.\n",
      "  warnings.warn(\n",
      "No artists with labels found to put in legend.  Note that artists whose label start with an underscore are ignored when legend() is called with no argument.\n"
     ]
    },
    {
     "data": {
      "image/png": "[encoded data removed]",
      "text/plain": [
       "<Figure size 640x480 with 1 Axes>"
      ]
     },
     "metadata": {},
     "output_type": "display_data"
    }
   ],
   "source": [
    "# Clustering\n",
    "from sklearn.cluster import KMeans\n",
    "\n",
    "# Instantiate KMeans object\n",
    "kmeans = KMeans(n_clusters=5, init='k-means++', max_iter=300, n_init=10, random_state=0)\n",
    "# Fit and predict clusters\n",
    "y_kmeans = kmeans.fit_predict(train_UMPA)\n",
    "y_kmeans_val= kmeans.fit_predict(val_UMAP)\n",
    "y_kmeans_test = kmeans.fit_predict(test_UMAP)\n",
    "\n",
    "\n",
    "\n",
    "plt.scatter(train_UMPA[:, 0], train_UMPA[:, 1], c=y_kmeans, cmap='viridis')\n",
    "plt.title('KMeans clustering+ UMAP')\n",
    "plt.xlabel(\"KMeans dimension 1\")\n",
    "plt.ylabel(\"KMeans dimension 1\")\n",
    "plt.legend()\n",
    "plt.show()\n",
    "\n"
   ]
  },
  {
   "cell_type": "code",
   "execution_count": 10,
   "metadata": {},
   "outputs": [],
   "source": [
    "#Match my Labels with Luis Labels\n",
    "matching = {1: 8, 0: 3, 2: 2, 3: 13, 4: 6}\n",
    "\n",
    "new_k_means_training = np.zeros(y_kmeans.shape, dtype='float')  \n",
    "for key, value in matching.items():\n",
    "    new_k_means_training[y_kmeans == key] = value\n",
    "\n",
    "new_k_means_val = np.zeros(y_kmeans_val.shape, dtype='float')  \n",
    "for key, value in matching.items():\n",
    "    new_k_means_val[y_kmeans_val == key] = value\n",
    "\n",
    "new_k_means_test = np.zeros(y_kmeans_test.shape, dtype='float')  \n",
    "for key, value in matching.items():\n",
    "    new_k_means_test[y_kmeans_test == key] = value"
   ]
  },
  {
   "cell_type": "code",
   "execution_count": 11,
   "metadata": {},
   "outputs": [
    {
     "name": "stdout",
     "output_type": "stream",
     "text": [
      "Davies is: 0.30758553423984464  Silouette is 0.7713615\n"
     ]
    }
   ],
   "source": [
    "\n",
    "from sklearn.metrics import davies_bouldin_score\n",
    "from sklearn.metrics import silhouette_score\n",
    "score = silhouette_score(train_UMPA,y_kmeans,metric='euclidean')\n",
    "db_index = davies_bouldin_score(train_UMPA,y_kmeans)\n",
    "print(\"Davies is:\",db_index , \" Silouette is\", score)"
   ]
  },
  {
   "cell_type": "code",
   "execution_count": 12,
   "metadata": {},
   "outputs": [
    {
     "name": "stdout",
     "output_type": "stream",
     "text": [
      "Davies is: 0.3075855342398447  Silouette is 0.7713615\n"
     ]
    }
   ],
   "source": [
    "from sklearn.metrics import davies_bouldin_score\n",
    "from sklearn.metrics import silhouette_score\n",
    "score = silhouette_score(train_UMPA,new_k_means_training,metric='euclidean')\n",
    "db_index = davies_bouldin_score(train_UMPA,new_k_means_training)\n",
    "print(\"Davies is:\",db_index , \" Silouette is\", score)\n"
   ]
  },
  {
   "attachments": {},
   "cell_type": "markdown",
   "metadata": {},
   "source": [
    "Training a supervised SVC model using the labels obtained in unsupervised"
   ]
  },
  {
   "cell_type": "code",
   "execution_count": 23,
   "metadata": {},
   "outputs": [
    {
     "data": {
      "text/plain": [
       "0.9216791979949874"
      ]
     },
     "execution_count": 23,
     "metadata": {},
     "output_type": "execute_result"
    }
   ],
   "source": [
    "from sklearn.svm import SVC\n",
    "from sklearn.metrics import accuracy_score\n",
    "\n",
    "SVC_Model = SVC(kernel='poly')\n",
    "SVC_Model.fit(train_data,new_k_means_training)\n",
    "\n",
    "# Predict the test set labels\n",
    "y_pred = SVC_Model.predict(train_data)\n",
    "\n",
    "accuracy_score(new_k_means_training, y_pred, normalize=True, sample_weight=None)"
   ]
  },
  {
   "attachments": {},
   "cell_type": "markdown",
   "metadata": {},
   "source": [
    "Validation. (Stage 2). Calculate news Y using the model and compare with existing labels"
   ]
  },
  {
   "cell_type": "code",
   "execution_count": 31,
   "metadata": {},
   "outputs": [
    {
     "data": {
      "text/plain": [
       "0.5577889447236181"
      ]
     },
     "execution_count": 31,
     "metadata": {},
     "output_type": "execute_result"
    }
   ],
   "source": [
    "y_pred_val = SVC_Model.predict(validation_data)\n",
    "\n",
    "accuracy_score(new_k_means_val,y_pred_val, normalize=True, sample_weight=None)\n"
   ]
  },
  {
   "attachments": {},
   "cell_type": "markdown",
   "metadata": {},
   "source": [
    "Improve Hyperparameters using grid"
   ]
  },
  {
   "cell_type": "code",
   "execution_count": 35,
   "metadata": {},
   "outputs": [
    {
     "name": "stdout",
     "output_type": "stream",
     "text": [
      "Best Parameters: {'C': 0.1, 'gamma': 'scale', 'kernel': 'linear'}\n",
      "Validation Score: 0.9346153846153846\n"
     ]
    }
   ],
   "source": [
    "from sklearn.model_selection import GridSearchCV\n",
    "\n",
    "from sklearn.svm import SVC\n",
    "\n",
    "param_grid = {\n",
    "    'C': [0.1, 1, 10, 100],\n",
    "    'kernel': ['linear', 'rbf', 'poly', 'sigmoid'],\n",
    "    'gamma': ['scale', 'auto']\n",
    "}\n",
    "\n",
    "#SVC_Model = SVC()\n",
    "grid_search = GridSearchCV(SVC_Model, param_grid, cv=5)\n",
    "grid_search.fit(validation_data, new_k_means_val)\n",
    "\n",
    "print(\"Best Parameters:\", grid_search.best_params_)\n",
    "print(\"Validation Score:\", grid_search.best_score_)"
   ]
  },
  {
   "cell_type": "code",
   "execution_count": 36,
   "metadata": {},
   "outputs": [
    {
     "data": {
      "text/plain": [
       "1.0"
      ]
     },
     "execution_count": 36,
     "metadata": {},
     "output_type": "execute_result"
    }
   ],
   "source": [
    "y_pred_opt = grid_search.predict(validation_data)\n",
    "accuracy_score(new_k_means_val, y_pred_opt, normalize=True, sample_weight=None)"
   ]
  },
  {
   "cell_type": "code",
   "execution_count": 37,
   "metadata": {},
   "outputs": [
    {
     "data": {
      "text/plain": [
       "0.425"
      ]
     },
     "execution_count": 37,
     "metadata": {},
     "output_type": "execute_result"
    }
   ],
   "source": [
    "#Testing\n",
    "y_pred_opt_test = grid_search.predict(test_data)\n",
    "accuracy_score(new_k_means_test, y_pred_opt_test, normalize=True, sample_weight=None)"
   ]
  },
  {
   "cell_type": "code",
   "execution_count": 41,
   "metadata": {},
   "outputs": [
    {
     "data": {
      "text/plain": [
       "array([2., 2., 2., ..., 3., 3., 3.])"
      ]
     },
     "execution_count": 41,
     "metadata": {},
     "output_type": "execute_result"
    }
   ],
   "source": [
    "#Testing luis_data\n",
    "y_pred_opt_final = grid_search.predict(data)\n",
    "y_pred_opt_final\n"
   ]
  },
  {
   "cell_type": "code",
   "execution_count": 40,
   "metadata": {},
   "outputs": [
    {
     "data": {
      "text/plain": [
       "0.14385964912280702"
      ]
     },
     "execution_count": 40,
     "metadata": {},
     "output_type": "execute_result"
    }
   ],
   "source": [
    "#comparar vs labels de luis Briceno\n",
    "\n",
    "labels_Luis = pd.read_csv('RawData_Label1.csv')\n",
    "LL=labels_Luis['label'].to_numpy(dtype='float')\n",
    "accuracy_score(y_pred_opt_final,LL, normalize=True, sample_weight=None)"
   ]
  }
 ],
 "metadata": {
  "kernelspec": {
   "display_name": "myenv",
   "language": "python",
   "name": "python3"
  },
  "language_info": {
   "codemirror_mode": {
    "name": "ipython",
    "version": 3
   },
   "file_extension": ".py",
   "mimetype": "text/x-python",
   "name": "python",
   "nbconvert_exporter": "python",
   "pygments_lexer": "ipython3",
   "version": "3.10.10"
  },
  "orig_nbformat": 4
 },
 "nbformat": 4,
 "nbformat_minor": 2
}
