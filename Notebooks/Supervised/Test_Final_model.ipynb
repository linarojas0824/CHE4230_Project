{
 "cells": [
  {
   "cell_type": "code",
   "execution_count": 7,
   "metadata": {},
   "outputs": [
    {
     "data": {
      "text/plain": [
       "'C:\\\\Users\\\\luiss\\\\Python Process Control\\\\Github Folder\\\\Project\\\\Project'"
      ]
     },
     "execution_count": 7,
     "metadata": {},
     "output_type": "execute_result"
    }
   ],
   "source": [
    "import sys\n",
    "import os\n",
    "import pandas as pd\n",
    "import numpy as np\n",
    "\n",
    "\n",
    "os.chdir(\"C:/Users/luiss/Python Process Control/Github Folder/Project/Project\")\n",
    "\n",
    "os.getcwd()\n"
   ]
  },
  {
   "cell_type": "code",
   "execution_count": 8,
   "metadata": {},
   "outputs": [
    {
     "name": "stderr",
     "output_type": "stream",
     "text": [
      "c:\\Users\\luiss\\anaconda3\\envs\\myenv3\\lib\\site-packages\\tqdm\\auto.py:21: TqdmWarning: IProgress not found. Please update jupyter and ipywidgets. See https://ipywidgets.readthedocs.io/en/stable/user_install.html\n",
      "  from .autonotebook import tqdm as notebook_tqdm\n"
     ]
    }
   ],
   "source": [
    "from CHE4230project_LLGModel.Model import Model"
   ]
  },
  {
   "cell_type": "code",
   "execution_count": 9,
   "metadata": {},
   "outputs": [
    {
     "name": "stdout",
     "output_type": "stream",
     "text": [
      "   Unnamed: 0  label\n",
      "0           1      2\n",
      "1           2      2\n",
      "2           3      2\n",
      "3           4      2\n",
      "4           5      2\n",
      "   Unnamed: 0    XMEAS1       XMEAS2       XMEAS3    XMEAS4     XMEAS5  \\\n",
      "0           1  0.271033  3649.739415  4451.320791  9.223142  32.392900   \n",
      "1           2  0.270826  3653.341885  4488.640140  9.211980  32.501953   \n",
      "2           3  0.270474  3688.113265  4432.832766  9.235690  32.402838   \n",
      "3           4  0.272127  3651.680041  4459.268940  9.192009  31.876790   \n",
      "4           5  0.270939  3636.329271  4460.409756  9.277992  32.424754   \n",
      "\n",
      "      XMEAS6       XMEAS7     XMEAS8      XMEAS9  ...       XMV1       XMV2  \\\n",
      "0  47.559754  2798.975799  64.995825  122.898796  ...  62.806984  53.286709   \n",
      "1  47.374855  2800.296214  65.091251  122.877519  ...  62.819324  53.220324   \n",
      "2  47.817088  2802.647777  64.812363  122.916165  ...  62.836835  53.211797   \n",
      "3  47.869249  2803.693084  64.205417  122.892493  ...  62.848190  53.186885   \n",
      "4  47.509322  2804.787223  64.598623  122.890514  ...  62.848341  53.192271   \n",
      "\n",
      "        XMV3       XMV4       XMV6       XMV7       XMV8      XMV10  \\\n",
      "0  26.662173  60.482854  24.229301  37.208198  46.430526  35.865322   \n",
      "1  26.689544  60.524644  24.171763  37.227431  46.427192  35.719177   \n",
      "2  26.705507  60.546193  25.179022  37.243766  46.442544  35.740715   \n",
      "3  26.768653  60.568588  26.922729  37.211698  46.407497  35.736154   \n",
      "4  26.396773  60.637598  29.039605  37.199517  46.424034  35.890716   \n",
      "\n",
      "       XMV11  XMV12  \n",
      "0  12.930642    100  \n",
      "1  11.714423    100  \n",
      "2  10.734676    100  \n",
      "3  10.311783    100  \n",
      "4  11.181380    100  \n",
      "\n",
      "[5 rows x 52 columns]\n"
     ]
    }
   ],
   "source": [
    "model = Model()\n",
    "labels = model.load_labels('Data/RawData_Label1.csv')\n",
    "data = model.raw_data('Data/Copy of RawData.csv')\n"
   ]
  },
  {
   "cell_type": "code",
   "execution_count": 10,
   "metadata": {},
   "outputs": [],
   "source": [
    "y_predict = model.predict(data)"
   ]
  },
  {
   "cell_type": "code",
   "execution_count": 11,
   "metadata": {},
   "outputs": [],
   "source": [
    "accuracy = model.eval_accuracy(y_predict,labels)"
   ]
  },
  {
   "cell_type": "code",
   "execution_count": 12,
   "metadata": {},
   "outputs": [
    {
     "data": {
      "text/plain": [
       "0.4616541353383459"
      ]
     },
     "execution_count": 12,
     "metadata": {},
     "output_type": "execute_result"
    }
   ],
   "source": [
    "accuracy"
   ]
  }
 ],
 "metadata": {
  "kernelspec": {
   "display_name": "Python310",
   "language": "python",
   "name": "python3"
  },
  "language_info": {
   "codemirror_mode": {
    "name": "ipython",
    "version": 3
   },
   "file_extension": ".py",
   "mimetype": "text/x-python",
   "name": "python",
   "nbconvert_exporter": "python",
   "pygments_lexer": "ipython3",
   "version": "3.10.10"
  },
  "orig_nbformat": 4
 },
 "nbformat": 4,
 "nbformat_minor": 2
}
